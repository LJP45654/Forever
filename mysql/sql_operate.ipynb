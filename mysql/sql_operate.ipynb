{
 "cells": [
  {
   "cell_type": "code",
   "execution_count": 66,
   "id": "bd476c95",
   "metadata": {},
   "outputs": [
    {
     "name": "stdout",
     "output_type": "stream",
     "text": [
      "[138.31, 144.47, 149.43, 140.14, 140.11, 135.91, 133.23, 131.76, 136.24, 133.57, 137.71, 140.83, 147.07, 147.22, 142.62, 118.42, 128.99, 123.7, 124.65, 120.07, 116.66, 118.65, 124.83, 128.68, 129.84, 133.57, 132.8, 131.14, 135.29, 138.85, 139.4, 139.23, 140.11, 134.43, 130.28, 126.63, 131.28, 120.15, 124.92, 114.06, 115.99, 117.3, 110.57, 112.69, 106.98, 108.76, 115.74, 115.58, 121.67, 119.53, 115.43, 117.52, 118.53, 117.7, 121.41, 120.69, 113.76, 111.43, 109.67, 108.38, 110.15, 110.42, 101.8, 94.31, 97.64, 96.3, 114.33, 107.57, 110.93, 110.71, 112.2, 104.49, 101.49, 96.91, 98.89, 102.71, 106.43, 111.01, 108.73, 109.02, 108.92, 111.61, 114.5, 113.82, 113.54, 117.06, 117.37, 116.65, 123.0, 129.93, 135.34, 134.83, 135.4, 135.57, 134.38, 131.8, 132.83, 131.29, 135.5, 134.81, 139.19, 135.13, 137.38, 141.22, 141.92, 139.99, 141.72, 142.63, 143.96, 142.83, 145.0, 141.97, 144.69, 144.12, 145.48, 143.85, 144.17, 147.9, 154.31, 155.02, 157.75, 157.99, 153.3, 157.25, 159.34, 158.24, 160.0, 162.88, 164.1, 164.92, 164.07, 170.7, 171.37, 173.0, 172.41, 171.38, 167.03, 170.78, 173.74, 173.5]\n",
      "140\n"
     ]
    }
   ],
   "source": [
    "import requests\n",
    "import json\n",
    "headers = {\n",
    "    'Content-Type': 'application/json'\n",
    "}\n",
    "date=[]\n",
    "close=[]\n",
    "ticker='nvda'\n",
    "requestResponse = requests.get(f\"https://api.tiingo.com/tiingo/daily/{ticker}/prices?startDate=2025-01-01&token=048ca6c7209d97f335a1182aed10769a1c8fb8e6\", headers=headers)\n",
    "formatted_json = json.dumps(requestResponse.json(), indent=4, ensure_ascii=False)\n",
    "for i in requestResponse.json():\n",
    "    date_part = i['date'].split('T')[0]\n",
    "    date.append(date_part)\n",
    "    close.append(i['close'])\n",
    "\n",
    "print(close)\n",
    "print(len(close))"
   ]
  },
  {
   "cell_type": "code",
   "execution_count": 4,
   "id": "3a7d2c5d",
   "metadata": {},
   "outputs": [],
   "source": [
    "import pymysql\n",
    "from datetime import date\n",
    "import json\n",
    "from decimal import Decimal\n",
    "\n",
    "name= 'cash_snapshot'\n",
    "\n",
    "conn = pymysql.connect(host='localhost', user='root', password='1234', db='forever')\n",
    "cursor = conn.cursor(pymysql.cursors.DictCursor)\n",
    "\n",
    "cursor.execute(f\"SELECT * FROM {name}\")\n",
    "rows = cursor.fetchall()\n",
    "\n",
    "for row in rows:\n",
    "    for key, value in row.items():\n",
    "        if isinstance(value, date):\n",
    "            row[key] = value.strftime('%Y-%m-%d')\n",
    "        elif isinstance(value, Decimal):\n",
    "            row[key] = float(value)\n",
    "\n",
    "\n",
    "with open(f'{name}.json', 'w', encoding='utf-8') as f:\n",
    "    json.dump(rows, f, ensure_ascii=False, indent=2)\n",
    "\n",
    "cursor.close()\n",
    "conn.close()"
   ]
  }
 ],
 "metadata": {
  "kernelspec": {
   "display_name": "Python 3",
   "language": "python",
   "name": "python3"
  },
  "language_info": {
   "codemirror_mode": {
    "name": "ipython",
    "version": 3
   },
   "file_extension": ".py",
   "mimetype": "text/x-python",
   "name": "python",
   "nbconvert_exporter": "python",
   "pygments_lexer": "ipython3",
   "version": "3.13.5"
  }
 },
 "nbformat": 4,
 "nbformat_minor": 5
}
